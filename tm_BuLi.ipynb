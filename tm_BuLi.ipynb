{
 "cells": [
  {
   "cell_type": "code",
   "execution_count": 1,
   "metadata": {},
   "outputs": [],
   "source": [
    "# import all necessary packages for webscraping a list of Bundesliga first devision teams\n",
    "\n",
    "import time\n",
    "import requests\n",
    "from bs4 import BeautifulSoup\n",
    "import re # support regular expressions\n",
    "import pandas as pd"
   ]
  },
  {
   "cell_type": "code",
   "execution_count": 3,
   "metadata": {},
   "outputs": [],
   "source": [
    "# get content of the page that lists all current Bundeliga teams on tm.de\n",
    "\n",
    "page = requests.get(\"https://www.transfermarkt.de/bundesliga/startseite/wettbewerb/L1\")\n",
    "html = page.content"
   ]
  },
  {
   "cell_type": "code",
   "execution_count": 4,
   "metadata": {},
   "outputs": [],
   "source": [
    "# parse the html document into type BeautifulSoup\n",
    "\n",
    "bs = BeautifulSoup(html, 'html.parser')"
   ]
  },
  {
   "cell_type": "code",
   "execution_count": 5,
   "metadata": {},
   "outputs": [
    {
     "name": "stdout",
     "output_type": "stream",
     "text": [
      "<html>\n",
      " <head>\n",
      "  <title>\n",
      "   404 Not Found\n",
      "  </title>\n",
      " </head>\n",
      " <body bgcolor=\"white\">\n",
      "  <center>\n",
      "   <h1>\n",
      "    404 Not Found\n",
      "   </h1>\n",
      "  </center>\n",
      "  <hr/>\n",
      "  <center>\n",
      "   nginx\n",
      "  </center>\n",
      " </body>\n",
      "</html>\n",
      "\n"
     ]
    }
   ],
   "source": [
    "# display the content using prettifier method\n",
    "\n",
    "print(bs.prettify())"
   ]
  },
  {
   "cell_type": "code",
   "execution_count": 7,
   "metadata": {},
   "outputs": [
    {
     "data": {
      "text/plain": [
       "[<html>\n",
       " <head><title>404 Not Found</title></head>\n",
       " <body bgcolor=\"white\">\n",
       " <center><h1>404 Not Found</h1></center>\n",
       " <hr/><center>nginx</center>\n",
       " </body>\n",
       " </html>,\n",
       " <head><title>404 Not Found</title></head>,\n",
       " <title>404 Not Found</title>,\n",
       " <body bgcolor=\"white\">\n",
       " <center><h1>404 Not Found</h1></center>\n",
       " <hr/><center>nginx</center>\n",
       " </body>,\n",
       " <center><h1>404 Not Found</h1></center>,\n",
       " <h1>404 Not Found</h1>,\n",
       " <hr/>,\n",
       " <center>nginx</center>]"
      ]
     },
     "execution_count": 7,
     "metadata": {},
     "output_type": "execute_result"
    }
   ],
   "source": [
    "# find children properties using bs attributes\n",
    "\n",
    "list(bs.findChildren())"
   ]
  },
  {
   "cell_type": "code",
   "execution_count": null,
   "metadata": {},
   "outputs": [],
   "source": []
  }
 ],
 "metadata": {
  "kernelspec": {
   "display_name": "base",
   "language": "python",
   "name": "python3"
  },
  "language_info": {
   "codemirror_mode": {
    "name": "ipython",
    "version": 3
   },
   "file_extension": ".py",
   "mimetype": "text/x-python",
   "name": "python",
   "nbconvert_exporter": "python",
   "pygments_lexer": "ipython3",
   "version": "3.9.13"
  },
  "orig_nbformat": 4
 },
 "nbformat": 4,
 "nbformat_minor": 2
}
