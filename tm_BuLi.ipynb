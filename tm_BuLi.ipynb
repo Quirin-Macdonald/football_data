{
 "cells": [
  {
   "cell_type": "code",
   "execution_count": 15,
   "metadata": {},
   "outputs": [],
   "source": [
    "# import all necessary packages for webscraping a list of Bundesliga first devision teams\n",
    "\n",
    "import time\n",
    "import requests\n",
    "from bs4 import BeautifulSoup\n",
    "import re # support regular expressions\n",
    "import pandas as pd\n",
    "import numpy as np"
   ]
  },
  {
   "cell_type": "code",
   "execution_count": 17,
   "metadata": {},
   "outputs": [],
   "source": [
    "# act as a browser to avoid the hp suspecting any scraping\n",
    "\n",
    "headers = {'User-Agent': \n",
    "           'Mozilla/5.0 (X11; Linux x86_64) AppleWebKit/537.36 (KHTML, like Gecko) Chrome/47.0.2526.106 Safari/537.36'}"
   ]
  },
  {
   "cell_type": "code",
   "execution_count": 19,
   "metadata": {},
   "outputs": [],
   "source": [
    "# get content of the page that lists all current Bundeliga teams on tm.de\n",
    "\n",
    "page = \"https://www.transfermarkt.de/bundesliga/startseite/wettbewerb/L1\"\n",
    "page_tree = requests.get(page, headers=headers)\n",
    "html_soup = BeautifulSoup(page_tree.content, 'html.parser')"
   ]
  },
  {
   "cell_type": "code",
   "execution_count": 63,
   "metadata": {},
   "outputs": [],
   "source": [
    "# extracting table from the soup object\n",
    "club_table = html_soup.find(id='yw1')"
   ]
  },
  {
   "cell_type": "code",
   "execution_count": 64,
   "metadata": {},
   "outputs": [
    {
     "data": {
      "text/plain": [
       "['FC Bayern München',\n",
       " 'Borussia Dortmund',\n",
       " 'RasenBallsport Leipzig',\n",
       " 'Bayer 04 Leverkusen',\n",
       " 'Eintracht Frankfurt',\n",
       " 'Borussia Mönchengladbach',\n",
       " 'VfL Wolfsburg',\n",
       " 'TSG 1899 Hoffenheim',\n",
       " 'SC Freiburg',\n",
       " 'VfB Stuttgart',\n",
       " '1.FC Union Berlin',\n",
       " '1.FSV Mainz 05',\n",
       " 'FC Augsburg',\n",
       " 'Hertha BSC',\n",
       " '1.FC Köln',\n",
       " 'SV Werder Bremen',\n",
       " 'FC Schalke 04',\n",
       " 'VfL Bochum']"
      ]
     },
     "execution_count": 64,
     "metadata": {},
     "output_type": "execute_result"
    }
   ],
   "source": [
    "# finding all elements that contain the club name\n",
    "club_name_elements = club_table.find_all('td', {'class': 'hauptlink no-border-links'})\n",
    "club_names = [club.text.replace(u'\\xa0', u'').strip() for club in club_name_elements]\n",
    "club_names"
   ]
  },
  {
   "cell_type": "code",
   "execution_count": 66,
   "metadata": {},
   "outputs": [
    {
     "data": {
      "text/plain": [
       "['27',\n",
       " '33',\n",
       " '27',\n",
       " '28',\n",
       " '30',\n",
       " '27',\n",
       " '25',\n",
       " '31',\n",
       " '26',\n",
       " '29',\n",
       " '27',\n",
       " '27',\n",
       " '32',\n",
       " '28',\n",
       " '35',\n",
       " '26',\n",
       " '32',\n",
       " '28']"
      ]
     },
     "execution_count": 66,
     "metadata": {},
     "output_type": "execute_result"
    }
   ],
   "source": [
    "# finding all elements with team sizes and store values in list\n",
    "\n",
    "team_size_elements = club_table.find_all('td', {'class': 'zentriert'})\n",
    "team_sizes = [size.text for size in team_size_elements][4::4]\n",
    "team_sizes"
   ]
  },
  {
   "cell_type": "code",
   "execution_count": 65,
   "metadata": {},
   "outputs": [
    {
     "data": {
      "text/plain": [
       "['26,2',\n",
       " '24,5',\n",
       " '25,3',\n",
       " '25,0',\n",
       " '25,1',\n",
       " '25,6',\n",
       " '24,4',\n",
       " '25,5',\n",
       " '26,0',\n",
       " '23,6',\n",
       " '27,3',\n",
       " '24,9',\n",
       " '25,0',\n",
       " '26,1',\n",
       " '24,3',\n",
       " '25,0',\n",
       " '27,1',\n",
       " '27,9']"
      ]
     },
     "execution_count": 65,
     "metadata": {},
     "output_type": "execute_result"
    }
   ],
   "source": [
    "# finding all elements that contain the average age of a team and put it\n",
    "avg_team_age_elements = club_table.find_all('td', {'class': 'zentriert'})\n",
    "avg_team_ages = [age.text for age in avg_team_age_elements][5::4]\n",
    "avg_team_ages\n"
   ]
  },
  {
   "cell_type": "code",
   "execution_count": 75,
   "metadata": {},
   "outputs": [
    {
     "data": {
      "text/plain": [
       "[36.88,\n",
       " 15.84,\n",
       " 18.27,\n",
       " 14.87,\n",
       " 8.93,\n",
       " 8.63,\n",
       " 7.53,\n",
       " 5.51,\n",
       " 6.22,\n",
       " 4.25,\n",
       " 4.37,\n",
       " 4.19,\n",
       " 3.47,\n",
       " 3.47,\n",
       " 2.74,\n",
       " 2.81,\n",
       " 1.89,\n",
       " 1.67]"
      ]
     },
     "execution_count": 75,
     "metadata": {},
     "output_type": "execute_result"
    }
   ],
   "source": [
    "# finding a teams average value and store in a list\n",
    "\n",
    "avg_team_value_elements = club_table.find_all('td', {'class': 'rechts'})\n",
    "avg_team_values = [float(value.text.split()[0].replace(',' , '.')) for value in avg_team_value_elements][2::2]\n",
    "avg_team_values"
   ]
  },
  {
   "cell_type": "code",
   "execution_count": 76,
   "metadata": {},
   "outputs": [
    {
     "data": {
      "text/plain": [
       "[995.7,\n",
       " 522.7,\n",
       " 493.3,\n",
       " 416.35,\n",
       " 267.95,\n",
       " 233.0,\n",
       " 188.2,\n",
       " 170.95,\n",
       " 161.63,\n",
       " 123.35,\n",
       " 117.9,\n",
       " 113.2,\n",
       " 111.15,\n",
       " 97.2,\n",
       " 96.03,\n",
       " 73.05,\n",
       " 60.45,\n",
       " 46.63]"
      ]
     },
     "execution_count": 76,
     "metadata": {},
     "output_type": "execute_result"
    }
   ],
   "source": [
    "avg_team_value_elements = club_table.find_all('td', {'class': 'rechts'})\n",
    "team_values = [float(value.text.split()[0].replace(',' , '.')) for value in avg_team_value_elements][3::2]\n",
    "team_values"
   ]
  },
  {
   "cell_type": "code",
   "execution_count": null,
   "metadata": {},
   "outputs": [],
   "source": []
  }
 ],
 "metadata": {
  "kernelspec": {
   "display_name": "base",
   "language": "python",
   "name": "python3"
  },
  "language_info": {
   "codemirror_mode": {
    "name": "ipython",
    "version": 3
   },
   "file_extension": ".py",
   "mimetype": "text/x-python",
   "name": "python",
   "nbconvert_exporter": "python",
   "pygments_lexer": "ipython3",
   "version": "3.9.13"
  },
  "orig_nbformat": 4
 },
 "nbformat": 4,
 "nbformat_minor": 2
}
